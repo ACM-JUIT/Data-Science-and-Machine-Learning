{
  "nbformat": 4,
  "nbformat_minor": 0,
  "metadata": {
    "colab": {
      "name": "Python Basics.ipynb",
      "provenance": [],
      "collapsed_sections": []
    },
    "kernelspec": {
      "name": "python3",
      "display_name": "Python 3"
    }
  },
  "cells": [
    {
      "cell_type": "markdown",
      "metadata": {
        "id": "PtoK9sHmVUeV"
      },
      "source": [
        "##Lists, Tuples and Dictionaries\r\n",
        "\r\n"
      ]
    },
    {
      "cell_type": "markdown",
      "metadata": {
        "id": "vnLix1uR-xg4"
      },
      "source": [
        "###A list is a data structure in python which is similar to array in c"
      ]
    },
    {
      "cell_type": "code",
      "metadata": {
        "id": "m98sD3ihqqcM",
        "colab": {
          "base_uri": "https://localhost:8080/"
        },
        "outputId": "2f52bc2d-91e6-42c5-f967-ba78ef4b50b0"
      },
      "source": [
        "list1=[\"apple\",\"orange\",\"mango\",\"grapes\"]   #creating a list\n",
        "list1                                        #python automatically prints what's written at the last"
      ],
      "execution_count": 8,
      "outputs": [
        {
          "output_type": "execute_result",
          "data": {
            "text/plain": [
              "['apple', 'orange', 'mango', 'grapes']"
            ]
          },
          "metadata": {
            "tags": []
          },
          "execution_count": 8
        }
      ]
    },
    {
      "cell_type": "code",
      "metadata": {
        "id": "2NHAOXxLraP-",
        "colab": {
          "base_uri": "https://localhost:8080/",
          "height": 34
        },
        "outputId": "3202bf6d-a27c-4a39-e0f7-3e0031924a41"
      },
      "source": [
        "print(list1[2])"
      ],
      "execution_count": null,
      "outputs": [
        {
          "output_type": "stream",
          "text": [
            "Ashima\n"
          ],
          "name": "stdout"
        }
      ]
    },
    {
      "cell_type": "code",
      "metadata": {
        "id": "5eq9UIyirj3n"
      },
      "source": [
        "book=[]                                                 #creating an empty list\n",
        "book.append(\"Pride and Prejudice\")                      #adding elements to empty list"
      ],
      "execution_count": 4,
      "outputs": []
    },
    {
      "cell_type": "code",
      "metadata": {
        "id": "_4pdSN4GryJJ",
        "colab": {
          "base_uri": "https://localhost:8080/"
        },
        "outputId": "45493fcb-cdd9-48b4-d0bf-539ae83b2cb6"
      },
      "source": [
        "book"
      ],
      "execution_count": 5,
      "outputs": [
        {
          "output_type": "execute_result",
          "data": {
            "text/plain": [
              "['Pride and Prejudice']"
            ]
          },
          "metadata": {
            "tags": []
          },
          "execution_count": 5
        }
      ]
    },
    {
      "cell_type": "code",
      "metadata": {
        "id": "a-tAnEQor1Lq",
        "colab": {
          "base_uri": "https://localhost:8080/"
        },
        "outputId": "6102e9f2-71d4-4122-f1ad-424efd9dd9be"
      },
      "source": [
        "book.append(\"Jane Eyre\")\n",
        "book                           "
      ],
      "execution_count": 6,
      "outputs": [
        {
          "output_type": "execute_result",
          "data": {
            "text/plain": [
              "['Pride and Prejudice', 'Jane Eyre']"
            ]
          },
          "metadata": {
            "tags": []
          },
          "execution_count": 6
        }
      ]
    },
    {
      "cell_type": "code",
      "metadata": {
        "id": "D3Gv5uZKsMs5",
        "colab": {
          "base_uri": "https://localhost:8080/"
        },
        "outputId": "48b39f75-afc9-4913-ee4d-267b3ed12e6e"
      },
      "source": [
        "book"
      ],
      "execution_count": 7,
      "outputs": [
        {
          "output_type": "execute_result",
          "data": {
            "text/plain": [
              "['Pride and Prejudice', 'Jane Eyre']"
            ]
          },
          "metadata": {
            "tags": []
          },
          "execution_count": 7
        }
      ]
    },
    {
      "cell_type": "markdown",
      "metadata": {
        "id": "3QeFwNJPWQzp"
      },
      "source": [
        "###Dictionaries are used to store data values in key:value pairs."
      ]
    },
    {
      "cell_type": "code",
      "metadata": {
        "id": "9uWDJ1Y0shWR",
        "colab": {
          "base_uri": "https://localhost:8080/",
          "height": 34
        },
        "outputId": "3c49749d-42e2-476d-abf0-615741ab9f27"
      },
      "source": [
        "d={\"key1\":\"value1\",\"key2\":\"value2\",\"key3\":\"value3\",\"key4\":\"value4\"}\n",
        "d"
      ],
      "execution_count": null,
      "outputs": [
        {
          "output_type": "execute_result",
          "data": {
            "text/plain": [
              "{'key1': 'value1', 'key2': 'value2', 'key3': 'value3', 'key4': 'value4'}"
            ]
          },
          "metadata": {
            "tags": []
          },
          "execution_count": 11
        }
      ]
    },
    {
      "cell_type": "markdown",
      "metadata": {
        "id": "ACeFke4-_Cl7"
      },
      "source": [
        "**dictionary: another data structure in python which is a collection which is unordered... \n",
        "changeable and indexed. In Python dictionaries are written with curly brackets, and they have keys and values.**"
      ]
    },
    {
      "cell_type": "code",
      "metadata": {
        "id": "CROuvAR8taXP",
        "colab": {
          "base_uri": "https://localhost:8080/"
        },
        "outputId": "faf84c3e-7bdc-422f-a578-52fa0508a40b"
      },
      "source": [
        "d={\"key1\":\"value1\",\"key2\":\"value2\",\"key3\":\"value3\",\"key4\":\"value4\"}\n",
        "print(\"Ist value is %s\" %(d[\"key1\"]))                      #dictionary printing elements"
      ],
      "execution_count": 9,
      "outputs": [
        {
          "output_type": "stream",
          "text": [
            "Ist value is value1\n"
          ],
          "name": "stdout"
        }
      ]
    },
    {
      "cell_type": "code",
      "metadata": {
        "id": "9k3Sk80GuEcG",
        "colab": {
          "base_uri": "https://localhost:8080/"
        },
        "outputId": "5c981328-57c6-4299-d62b-89ec484d8723"
      },
      "source": [
        "#adding elements in the dictionary\n",
        "d={\"key1\":\"value1\",\"key2\":\"value2\",\"key3\":\"value3\",\"key4\":\"value4\"}\n",
        "d['key5']=\"value5\"#adding new element\n",
        "d"
      ],
      "execution_count": 10,
      "outputs": [
        {
          "output_type": "execute_result",
          "data": {
            "text/plain": [
              "{'key1': 'value1',\n",
              " 'key2': 'value2',\n",
              " 'key3': 'value3',\n",
              " 'key4': 'value4',\n",
              " 'key5': 'value5'}"
            ]
          },
          "metadata": {
            "tags": []
          },
          "execution_count": 10
        }
      ]
    },
    {
      "cell_type": "code",
      "metadata": {
        "id": "7WJErlxHwjX0",
        "colab": {
          "base_uri": "https://localhost:8080/",
          "height": 34
        },
        "outputId": "d06131f2-7ffe-4838-cc17-2992a0416796"
      },
      "source": [
        "\n",
        "thisTuple=(\"apple\",\"orange\",\"mango\")\n",
        "print(len(thisTuple))"
      ],
      "execution_count": null,
      "outputs": [
        {
          "output_type": "stream",
          "text": [
            "3\n"
          ],
          "name": "stdout"
        }
      ]
    },
    {
      "cell_type": "markdown",
      "metadata": {
        "id": "NCEufe8bXWVd"
      },
      "source": [
        "###Tuples"
      ]
    },
    {
      "cell_type": "markdown",
      "metadata": {
        "id": "KmSRpQN1_LTl"
      },
      "source": [
        "A tuple is an immutable sequence of Python objects. Tuples are sequences, just like lists. The differences between tuples and lists are, the tuples cannot be changed unlike lists and tuples use parentheses, whereas lists use square brackets.\n"
      ]
    },
    {
      "cell_type": "code",
      "metadata": {
        "id": "MUoZ_H5QxLJf",
        "colab": {
          "base_uri": "https://localhost:8080/",
          "height": 34
        },
        "outputId": "cddadaf3-6820-4606-e4a5-cc650b80b3d6"
      },
      "source": [
        "#tupleswithnegativeindexing\n",
        "thisTuple=(\"apple\",\"orange\",\"mango\") #-1prints last, -2 prints second last and so on\n",
        "print(thisTuple[-1])"
      ],
      "execution_count": null,
      "outputs": [
        {
          "output_type": "stream",
          "text": [
            "mango\n"
          ],
          "name": "stdout"
        }
      ]
    },
    {
      "cell_type": "code",
      "metadata": {
        "id": "KswAmJTgxihH",
        "colab": {
          "base_uri": "https://localhost:8080/",
          "height": 34
        },
        "outputId": "5f2f9e28-7e93-460c-eb37-48d940b4fae7"
      },
      "source": [
        "thisTuple=(\"apple\",\"orange\",\"mango\",\"orange\",\"orange\") #printing range\n",
        "print(thisTuple[2:5]) #item at position five is not printed"
      ],
      "execution_count": null,
      "outputs": [
        {
          "output_type": "stream",
          "text": [
            "('mango', 'orange', 'orange')\n"
          ],
          "name": "stdout"
        }
      ]
    },
    {
      "cell_type": "code",
      "metadata": {
        "id": "L55O_0GkyLaJ",
        "colab": {
          "base_uri": "https://localhost:8080/",
          "height": 34
        },
        "outputId": "840ee3d9-07d0-4c2e-be17-c7735c980d4c"
      },
      "source": [
        "#convertingtouplestolisttoaddelements\n",
        "x=(\"banana\",\"apple\",\"kiwi\",\"\")\n",
        "y=list(x)\n",
        "y[3]=\"orange\"\n",
        "x=tuple(y)\n",
        "print (x)"
      ],
      "execution_count": null,
      "outputs": [
        {
          "output_type": "stream",
          "text": [
            "('banana', 'apple', 'kiwi', 'orange')\n"
          ],
          "name": "stdout"
        }
      ]
    },
    {
      "cell_type": "code",
      "metadata": {
        "id": "EoFfQ3_MzWP-",
        "colab": {
          "base_uri": "https://localhost:8080/",
          "height": 34
        },
        "outputId": "17c9fb16-a06b-436a-a634-5369f9fb7191"
      },
      "source": [
        "\n",
        "thisset={\"apple\",\"banana\",\"cherry\"}\n",
        "print(thisset)\n"
      ],
      "execution_count": null,
      "outputs": [
        {
          "output_type": "stream",
          "text": [
            "{'cherry', 'banana', 'apple'}\n"
          ],
          "name": "stdout"
        }
      ]
    },
    {
      "cell_type": "markdown",
      "metadata": {
        "id": "Esl7kfe__aK-"
      },
      "source": [
        "Sets are another data structures. The most useless collection istg."
      ]
    },
    {
      "cell_type": "code",
      "metadata": {
        "id": "5_DZnbhL2oFJ",
        "colab": {
          "base_uri": "https://localhost:8080/",
          "height": 34
        },
        "outputId": "6e94fce3-4114-4a1b-91d5-2a139b5e76c2"
      },
      "source": [
        "#add items in set\n",
        "thisset={\"apple\",\"banana\",\"cherry\"}#single element\n",
        "thisset.add(\"kiwi\")\n",
        "print(thisset)"
      ],
      "execution_count": null,
      "outputs": [
        {
          "output_type": "stream",
          "text": [
            "{'cherry', 'banana', 'apple', 'kiwi'}\n"
          ],
          "name": "stdout"
        }
      ]
    },
    {
      "cell_type": "code",
      "metadata": {
        "id": "JV4P98pT4ZhR",
        "colab": {
          "base_uri": "https://localhost:8080/",
          "height": 34
        },
        "outputId": "c280508e-dbd7-4487-c57e-7ec91b180855"
      },
      "source": [
        "thisset={\"apple\",\"banana\",\"cherry\"}#adding multiple elements\n",
        "thisset.update([\"kiwi\",\"mango\",\"orange\"])\n",
        "print(thisset)"
      ],
      "execution_count": null,
      "outputs": [
        {
          "output_type": "stream",
          "text": [
            "{'cherry', 'apple', 'kiwi', 'banana', 'mango', 'orange'}\n"
          ],
          "name": "stdout"
        }
      ]
    },
    {
      "cell_type": "code",
      "metadata": {
        "id": "HPq60gHr4fN1"
      },
      "source": [
        "x=[\"mango\",\"apple\",\"orange\"]\n",
        "t=(\"banana\",\"grapes\")\n",
        "s=set()\n",
        "\n"
      ],
      "execution_count": null,
      "outputs": []
    },
    {
      "cell_type": "code",
      "metadata": {
        "id": "bWMK7j1L5iSr",
        "colab": {
          "base_uri": "https://localhost:8080/",
          "height": 34
        },
        "outputId": "91b40fe8-6699-4a90-f42c-7098bea3ed42"
      },
      "source": [
        "type(s)"
      ],
      "execution_count": null,
      "outputs": [
        {
          "output_type": "execute_result",
          "data": {
            "text/plain": [
              "set"
            ]
          },
          "metadata": {
            "tags": []
          },
          "execution_count": 14
        }
      ]
    },
    {
      "cell_type": "code",
      "metadata": {
        "id": "uF4ydvMm5m8C",
        "colab": {
          "base_uri": "https://localhost:8080/",
          "height": 34
        },
        "outputId": "228de757-3f77-493d-9e17-feb05e0a535a"
      },
      "source": [
        "s"
      ],
      "execution_count": null,
      "outputs": [
        {
          "output_type": "execute_result",
          "data": {
            "text/plain": [
              "set()"
            ]
          },
          "metadata": {
            "tags": []
          },
          "execution_count": 15
        }
      ]
    },
    {
      "cell_type": "code",
      "metadata": {
        "id": "HgOlAMsu5pub",
        "colab": {
          "base_uri": "https://localhost:8080/",
          "height": 34
        },
        "outputId": "e8775fb4-6813-4e1f-f58f-0d8711305b07"
      },
      "source": [
        "s.update(t)\n",
        "s"
      ],
      "execution_count": null,
      "outputs": [
        {
          "output_type": "execute_result",
          "data": {
            "text/plain": [
              "{'banana', 'grapes'}"
            ]
          },
          "metadata": {
            "tags": []
          },
          "execution_count": 16
        }
      ]
    },
    {
      "cell_type": "code",
      "metadata": {
        "id": "y9qbz0m35026",
        "colab": {
          "base_uri": "https://localhost:8080/",
          "height": 34
        },
        "outputId": "7cebcf6a-60fb-401e-f2a7-174fa748e461"
      },
      "source": [
        "s.update(x)\n",
        "s"
      ],
      "execution_count": null,
      "outputs": [
        {
          "output_type": "execute_result",
          "data": {
            "text/plain": [
              "{'apple', 'banana', 'grapes', 'mango', 'orange'}"
            ]
          },
          "metadata": {
            "tags": []
          },
          "execution_count": 17
        }
      ]
    },
    {
      "cell_type": "code",
      "metadata": {
        "id": "dLMz_gmY5761",
        "colab": {
          "base_uri": "https://localhost:8080/",
          "height": 34
        },
        "outputId": "f517c2a7-63b2-4674-cef0-4eb1951112da"
      },
      "source": [
        "type(x)"
      ],
      "execution_count": null,
      "outputs": [
        {
          "output_type": "execute_result",
          "data": {
            "text/plain": [
              "list"
            ]
          },
          "metadata": {
            "tags": []
          },
          "execution_count": 18
        }
      ]
    },
    {
      "cell_type": "code",
      "metadata": {
        "id": "hTHgzWZo6Cfv",
        "colab": {
          "base_uri": "https://localhost:8080/",
          "height": 34
        },
        "outputId": "5c3619a7-f410-4c2f-f1a9-185ef3e851cc"
      },
      "source": [
        "a=(1,)\n",
        "type(a)"
      ],
      "execution_count": null,
      "outputs": [
        {
          "output_type": "execute_result",
          "data": {
            "text/plain": [
              "tuple"
            ]
          },
          "metadata": {
            "tags": []
          },
          "execution_count": 20
        }
      ]
    },
    {
      "cell_type": "code",
      "metadata": {
        "id": "qL_b5HAF6JYw",
        "colab": {
          "base_uri": "https://localhost:8080/",
          "height": 34
        },
        "outputId": "895bbe89-97a2-4aed-cc5e-c5b3fd5c1a96"
      },
      "source": [
        "a=tuple((1,2))\n",
        "a"
      ],
      "execution_count": null,
      "outputs": [
        {
          "output_type": "execute_result",
          "data": {
            "text/plain": [
              "(1, 2)"
            ]
          },
          "metadata": {
            "tags": []
          },
          "execution_count": 24
        }
      ]
    },
    {
      "cell_type": "code",
      "metadata": {
        "id": "EfP_gEkv6W1m",
        "colab": {
          "base_uri": "https://localhost:8080/",
          "height": 34
        },
        "outputId": "9a010b8e-43f9-4a4c-cd07-33f7db99fb6e"
      },
      "source": [
        "x=int(input(\"enter value of x\")) #user defined input"
      ],
      "execution_count": null,
      "outputs": [
        {
          "output_type": "stream",
          "text": [
            "enter value of x1\n"
          ],
          "name": "stdout"
        }
      ]
    },
    {
      "cell_type": "code",
      "metadata": {
        "id": "FD-oeDJg8NCp",
        "colab": {
          "base_uri": "https://localhost:8080/",
          "height": 34
        },
        "outputId": "4f21d3ec-4a83-42d4-a2b3-74752c1b781c"
      },
      "source": [
        "type(x)"
      ],
      "execution_count": null,
      "outputs": [
        {
          "output_type": "execute_result",
          "data": {
            "text/plain": [
              "int"
            ]
          },
          "metadata": {
            "tags": []
          },
          "execution_count": 28
        }
      ]
    },
    {
      "cell_type": "markdown",
      "metadata": {
        "id": "f-8CF6kTAS1F"
      },
      "source": [
        "Indexing"
      ]
    },
    {
      "cell_type": "code",
      "metadata": {
        "id": "BJT3D7Vh8P0A",
        "colab": {
          "base_uri": "https://localhost:8080/",
          "height": 34
        },
        "outputId": "9a5b1d9b-53a3-407f-cdde-a5773c05c751"
      },
      "source": [
        "l=[1,2,3,4,5,5]              \n",
        "a=l[:]                            # prints all elements of list\n",
        "a"
      ],
      "execution_count": null,
      "outputs": [
        {
          "output_type": "execute_result",
          "data": {
            "text/plain": [
              "[1, 2, 3, 4, 5, 5]"
            ]
          },
          "metadata": {
            "tags": []
          },
          "execution_count": 17
        }
      ]
    },
    {
      "cell_type": "code",
      "metadata": {
        "id": "s9wdShvPJDDm",
        "colab": {
          "base_uri": "https://localhost:8080/",
          "height": 34
        },
        "outputId": "df815013-759a-4299-9c64-9c2a91c30c8d"
      },
      "source": [
        "l[-5:-3]                         # negative number means that number from last. -5:-3 mean print numbers 5th from last to third from last"
      ],
      "execution_count": null,
      "outputs": [
        {
          "output_type": "execute_result",
          "data": {
            "text/plain": [
              "[2, 3]"
            ]
          },
          "metadata": {
            "tags": []
          },
          "execution_count": 18
        }
      ]
    },
    {
      "cell_type": "code",
      "metadata": {
        "id": "UFwlHhvVJq1z",
        "colab": {
          "base_uri": "https://localhost:8080/",
          "height": 34
        },
        "outputId": "b1436d3e-2bfe-46c6-bf04-10220f3e597f"
      },
      "source": [
        "l[1:-2]"
      ],
      "execution_count": null,
      "outputs": [
        {
          "output_type": "execute_result",
          "data": {
            "text/plain": [
              "[2, 3, 4]"
            ]
          },
          "metadata": {
            "tags": []
          },
          "execution_count": 5
        }
      ]
    },
    {
      "cell_type": "markdown",
      "metadata": {
        "id": "NINEHiK4AcnF"
      },
      "source": [
        "**Basic mathematical operators**"
      ]
    },
    {
      "cell_type": "code",
      "metadata": {
        "id": "ckcANxkvKC9u",
        "colab": {
          "base_uri": "https://localhost:8080/",
          "height": 34
        },
        "outputId": "7d9bb648-477a-44d9-a8db-f95a8f19dca0"
      },
      "source": [
        "a=10\n",
        "b=25\n",
        "c=b/a\n",
        "c"
      ],
      "execution_count": null,
      "outputs": [
        {
          "output_type": "execute_result",
          "data": {
            "text/plain": [
              "2.5"
            ]
          },
          "metadata": {
            "tags": []
          },
          "execution_count": 7
        }
      ]
    },
    {
      "cell_type": "code",
      "metadata": {
        "id": "o_fdra1TKt_l",
        "colab": {
          "base_uri": "https://localhost:8080/",
          "height": 34
        },
        "outputId": "f651391b-a94b-43d3-fc4e-370e0b32c05d"
      },
      "source": [
        "2**4        # ** is used to raise the number on the left to the power of the exponent of the right."
      ],
      "execution_count": null,
      "outputs": [
        {
          "output_type": "execute_result",
          "data": {
            "text/plain": [
              "16"
            ]
          },
          "metadata": {
            "tags": []
          },
          "execution_count": 19
        }
      ]
    },
    {
      "cell_type": "code",
      "metadata": {
        "id": "aoEJ80cOLARC",
        "colab": {
          "base_uri": "https://localhost:8080/",
          "height": 34
        },
        "outputId": "e0822d20-8ad5-4817-b30a-a8797726a47d"
      },
      "source": [
        "a=1.7\n",
        "b=20\n",
        "c=a**b\n",
        "type(c)          #check type of a particular variable"
      ],
      "execution_count": null,
      "outputs": [
        {
          "output_type": "execute_result",
          "data": {
            "text/plain": [
              "float"
            ]
          },
          "metadata": {
            "tags": []
          },
          "execution_count": 20
        }
      ]
    },
    {
      "cell_type": "code",
      "metadata": {
        "id": "2I5U7rvLMTtc",
        "colab": {
          "base_uri": "https://localhost:8080/",
          "height": 34
        },
        "outputId": "61870f9b-2cdd-4bd5-b3dd-e3684ce1b300"
      },
      "source": [
        "a=7     \n",
        "b=6\n",
        "a&b         #  & operator is same as that used in C"
      ],
      "execution_count": null,
      "outputs": [
        {
          "output_type": "execute_result",
          "data": {
            "text/plain": [
              "6"
            ]
          },
          "metadata": {
            "tags": []
          },
          "execution_count": 11
        }
      ]
    },
    {
      "cell_type": "markdown",
      "metadata": {
        "id": "60M1H_4YA9q3"
      },
      "source": [
        "**Loops**"
      ]
    },
    {
      "cell_type": "code",
      "metadata": {
        "id": "yqeEsBw2qU0k",
        "colab": {
          "base_uri": "https://localhost:8080/"
        },
        "outputId": "cdbf3253-d367-4bca-f42d-a9dfb0e6a699"
      },
      "source": [
        "for x in range(2,6): #for loop\n",
        "  print(x)"
      ],
      "execution_count": 12,
      "outputs": [
        {
          "output_type": "stream",
          "text": [
            "2\n",
            "3\n",
            "4\n",
            "5\n"
          ],
          "name": "stdout"
        }
      ]
    },
    {
      "cell_type": "code",
      "metadata": {
        "id": "p811yziMu5zy",
        "colab": {
          "base_uri": "https://localhost:8080/"
        },
        "outputId": "29249c1a-99fa-4e61-9fed-9ebe10612964"
      },
      "source": [
        "for x in range(2, 30, 3): #for loop with 3rd argument\n",
        "  print(x)"
      ],
      "execution_count": 13,
      "outputs": [
        {
          "output_type": "stream",
          "text": [
            "2\n",
            "5\n",
            "8\n",
            "11\n",
            "14\n",
            "17\n",
            "20\n",
            "23\n",
            "26\n",
            "29\n"
          ],
          "name": "stdout"
        }
      ]
    },
    {
      "cell_type": "code",
      "metadata": {
        "id": "ijOFpsYOM62k",
        "colab": {
          "base_uri": "https://localhost:8080/",
          "height": 34
        },
        "outputId": "3ca942f0-fde0-4342-dce5-3627e0a29194"
      },
      "source": [
        "l=[i for i in range(7)]\n",
        "l"
      ],
      "execution_count": null,
      "outputs": [
        {
          "output_type": "execute_result",
          "data": {
            "text/plain": [
              "[0, 1, 2, 3, 4, 5, 6]"
            ]
          },
          "metadata": {
            "tags": []
          },
          "execution_count": 18
        }
      ]
    },
    {
      "cell_type": "code",
      "metadata": {
        "id": "bKySX6ywOqCt",
        "colab": {
          "base_uri": "https://localhost:8080/",
          "height": 102
        },
        "outputId": "b0dcf1f3-8ea6-4ab6-a592-b5b42acb9b94"
      },
      "source": [
        "for i in range(1,6):\n",
        "  if i==3:\n",
        "    print(\"continue encountered\")\n",
        "    continue\n",
        "  print (i)"
      ],
      "execution_count": null,
      "outputs": [
        {
          "output_type": "stream",
          "text": [
            "1\n",
            "2\n",
            "continue encountered\n",
            "4\n",
            "5\n"
          ],
          "name": "stdout"
        }
      ]
    },
    {
      "cell_type": "code",
      "metadata": {
        "id": "3Y5vF__YP7gf",
        "colab": {
          "base_uri": "https://localhost:8080/",
          "height": 119
        },
        "outputId": "8c90c657-a0b0-4f87-9672-555c4cfffe36"
      },
      "source": [
        "for i in range(1,6):  #used to execute some other thing at a particular point without disrupting the loop flow\n",
        "  if i==3:\n",
        "    print(\"pass encountered\")\n",
        "    pass\n",
        "  print (i)"
      ],
      "execution_count": null,
      "outputs": [
        {
          "output_type": "stream",
          "text": [
            "1\n",
            "2\n",
            "pass encountered\n",
            "3\n",
            "4\n",
            "5\n"
          ],
          "name": "stdout"
        }
      ]
    },
    {
      "cell_type": "code",
      "metadata": {
        "id": "Uqc9qK2rQgtW",
        "colab": {
          "base_uri": "https://localhost:8080/",
          "height": 34
        },
        "outputId": "ab5ba4d0-bbd5-4f62-c825-08cc0c677edc"
      },
      "source": [
        "l=[i for i in range(1,4)]\n",
        "l"
      ],
      "execution_count": null,
      "outputs": [
        {
          "output_type": "execute_result",
          "data": {
            "text/plain": [
              "[1, 2, 3]"
            ]
          },
          "metadata": {
            "tags": []
          },
          "execution_count": 24
        }
      ]
    },
    {
      "cell_type": "code",
      "metadata": {
        "id": "x_j_bk2LQ8EG",
        "colab": {
          "base_uri": "https://localhost:8080/",
          "height": 119
        },
        "outputId": "4da8ffeb-6735-4b20-a37e-edd1f4fac266"
      },
      "source": [
        "for i in range (1,6):\n",
        "  print()\n",
        "  for i in range (1,i+1):\n",
        "    print(\"*\", sep='', end='')"
      ],
      "execution_count": null,
      "outputs": [
        {
          "output_type": "stream",
          "text": [
            "\n",
            "*\n",
            "**\n",
            "***\n",
            "****\n",
            "*****"
          ],
          "name": "stdout"
        }
      ]
    },
    {
      "cell_type": "code",
      "metadata": {
        "id": "JXkwUcG7URYq",
        "colab": {
          "base_uri": "https://localhost:8080/",
          "height": 102
        },
        "outputId": "c128151f-523b-454c-aeb5-bbac204e2f7c"
      },
      "source": [
        "for i in range(1,6): #string concatenation\n",
        "  print(\"*\"*i)"
      ],
      "execution_count": null,
      "outputs": [
        {
          "output_type": "stream",
          "text": [
            "*\n",
            "**\n",
            "***\n",
            "****\n",
            "*****\n"
          ],
          "name": "stdout"
        }
      ]
    },
    {
      "cell_type": "code",
      "metadata": {
        "id": "qfpPnHA1UfhD",
        "colab": {
          "base_uri": "https://localhost:8080/",
          "height": 34
        },
        "outputId": "006f0f38-bb77-4dd4-c4e6-27bbb52e2d48"
      },
      "source": [
        "str=\"hello\" #sting reversal\n",
        "str[::-1]"
      ],
      "execution_count": null,
      "outputs": [
        {
          "output_type": "execute_result",
          "data": {
            "text/plain": [
              "'olleh'"
            ]
          },
          "metadata": {
            "tags": []
          },
          "execution_count": 33
        }
      ]
    },
    {
      "cell_type": "markdown",
      "metadata": {
        "id": "MWAC94YvB2qn"
      },
      "source": [
        "**Print statement with format specifiers**"
      ]
    },
    {
      "cell_type": "code",
      "metadata": {
        "id": "QLxaqdomU4qW",
        "colab": {
          "base_uri": "https://localhost:8080/",
          "height": 34
        },
        "outputId": "eab158cf-a8b9-4d52-8bfe-c3b5f143e50b"
      },
      "source": [
        "print(\"Hello this is no. %d, float %5.2f\" %(53.8094,20))"
      ],
      "execution_count": null,
      "outputs": [
        {
          "output_type": "stream",
          "text": [
            "Hello this is no. 53, float 20.00\n"
          ],
          "name": "stdout"
        }
      ]
    },
    {
      "cell_type": "code",
      "metadata": {
        "id": "QCNMd2AzW4dz",
        "colab": {
          "base_uri": "https://localhost:8080/",
          "height": 34
        },
        "outputId": "2da6db5a-aa57-4a72-99b2-78b11c43bdd0"
      },
      "source": [
        "print(\"this is % 10.3E\" %(3567.5897))"
      ],
      "execution_count": null,
      "outputs": [
        {
          "output_type": "stream",
          "text": [
            "this is  3.568E+03\n"
          ],
          "name": "stdout"
        }
      ]
    },
    {
      "cell_type": "code",
      "metadata": {
        "id": "eEkEcL3WXTqq",
        "colab": {
          "base_uri": "https://localhost:8080/",
          "height": 34
        },
        "outputId": "012faf81-44a8-49e8-a52a-826ad494830c"
      },
      "source": [
        "print(\"Hello this is no. {}, float {}\" .format(53.8094,20)) #default 1-1, 0-0 indexing"
      ],
      "execution_count": null,
      "outputs": [
        {
          "output_type": "stream",
          "text": [
            "Hello this is no. 53.8094, float 20\n"
          ],
          "name": "stdout"
        }
      ]
    },
    {
      "cell_type": "code",
      "metadata": {
        "id": "zGV3pqZHYc5J",
        "colab": {
          "base_uri": "https://localhost:8080/",
          "height": 34
        },
        "outputId": "e5cdaaf5-1363-4a4b-99cd-5286e84aaea6"
      },
      "source": [
        "print(\"Hello this is no. {1}, float {0}\" .format(53.8094,20)) #format using indexing"
      ],
      "execution_count": null,
      "outputs": [
        {
          "output_type": "stream",
          "text": [
            "Hello this is no. 20, float 53.8094\n"
          ],
          "name": "stdout"
        }
      ]
    },
    {
      "cell_type": "code",
      "metadata": {
        "id": "rcABCAkjYiEQ",
        "colab": {
          "base_uri": "https://localhost:8080/",
          "height": 34
        },
        "outputId": "5398f9a4-5e7d-4384-96e6-272cc6c09da9"
      },
      "source": [
        "print(\"Hello this is no. {b}, float {a}\" .format(a=53.8094,b=20)) #name indexing"
      ],
      "execution_count": null,
      "outputs": [
        {
          "output_type": "stream",
          "text": [
            "Hello this is no. 20, float 53.8094\n"
          ],
          "name": "stdout"
        }
      ]
    },
    {
      "cell_type": "code",
      "metadata": {
        "id": "Lm64FFBmY84o",
        "colab": {
          "base_uri": "https://localhost:8080/",
          "height": 34
        },
        "outputId": "8735ab8c-33cd-4cd8-b66c-0d14a20e777c"
      },
      "source": [
        "print(\"Hello this is no. {b}, float {a:.2f}\" .format(a=5983.8094,b=20))"
      ],
      "execution_count": null,
      "outputs": [
        {
          "output_type": "stream",
          "text": [
            "Hello this is no. 20, float 5983.81\n"
          ],
          "name": "stdout"
        }
      ]
    },
    {
      "cell_type": "markdown",
      "metadata": {
        "id": "0ZJjZ_pHP1zE"
      },
      "source": [
        "**Lambda Function : ** A lambda function is a small anonymous function. A lambda function can take any number of arguments, but can only have one expression.\n",
        "\n"
      ]
    },
    {
      "cell_type": "code",
      "metadata": {
        "id": "GQqgAc6rZKt_",
        "colab": {
          "base_uri": "https://localhost:8080/",
          "height": 34
        },
        "outputId": "87527c16-82c2-4180-cb3e-8ab09e975d27"
      },
      "source": [
        "x=lambda a,b:a+b  #lambda function\n",
        "print(x(2,3))"
      ],
      "execution_count": null,
      "outputs": [
        {
          "output_type": "stream",
          "text": [
            "5\n"
          ],
          "name": "stdout"
        }
      ]
    },
    {
      "cell_type": "code",
      "metadata": {
        "id": "W_f6Orq2bSJl",
        "colab": {
          "base_uri": "https://localhost:8080/",
          "height": 204
        },
        "outputId": "9322a340-a09e-4ed5-ab08-dda686b19869"
      },
      "source": [
        "n=int(input(\"Enter any number\"))    #using lambda function\n",
        "l=lambda n,i:n*i\n",
        "for i in range(1,11):\n",
        "  print(n,\"X\",i,\"=\",l(n,i))"
      ],
      "execution_count": null,
      "outputs": [
        {
          "output_type": "stream",
          "text": [
            "Enter any number3\n",
            "3 X 1 = 3\n",
            "3 X 2 = 6\n",
            "3 X 3 = 9\n",
            "3 X 4 = 12\n",
            "3 X 5 = 15\n",
            "3 X 6 = 18\n",
            "3 X 7 = 21\n",
            "3 X 8 = 24\n",
            "3 X 9 = 27\n",
            "3 X 10 = 30\n"
          ],
          "name": "stdout"
        }
      ]
    },
    {
      "cell_type": "code",
      "metadata": {
        "id": "DaaFrkM0cNnE",
        "colab": {
          "base_uri": "https://localhost:8080/",
          "height": 34
        },
        "outputId": "6bb221b3-8974-406d-8b35-bd3c5a0cc897"
      },
      "source": [
        "l=[1,2,3,4,5,6,12]\n",
        "new_list=filter(lambda x:x%3==0,l)\n",
        "type(new_list)"
      ],
      "execution_count": null,
      "outputs": [
        {
          "output_type": "execute_result",
          "data": {
            "text/plain": [
              "filter"
            ]
          },
          "metadata": {
            "tags": []
          },
          "execution_count": 62
        }
      ]
    },
    {
      "cell_type": "code",
      "metadata": {
        "id": "-E1upG2xc8aX",
        "colab": {
          "base_uri": "https://localhost:8080/",
          "height": 34
        },
        "outputId": "f5e09715-1fe9-404f-8c72-54a4346ae936"
      },
      "source": [
        "list(new_list)"
      ],
      "execution_count": null,
      "outputs": [
        {
          "output_type": "execute_result",
          "data": {
            "text/plain": [
              "[3, 6, 12]"
            ]
          },
          "metadata": {
            "tags": []
          },
          "execution_count": 64
        }
      ]
    },
    {
      "cell_type": "code",
      "metadata": {
        "id": "WPUNNqaRdPyD",
        "colab": {
          "base_uri": "https://localhost:8080/",
          "height": 34
        },
        "outputId": "2db28a8f-04f5-46ba-cd98-bd012f57ebce"
      },
      "source": [
        ""
      ],
      "execution_count": null,
      "outputs": [
        {
          "output_type": "execute_result",
          "data": {
            "text/plain": [
              "()"
            ]
          },
          "metadata": {
            "tags": []
          },
          "execution_count": 65
        }
      ]
    },
    {
      "cell_type": "code",
      "metadata": {
        "id": "a-GdYK0ldZHp",
        "colab": {
          "base_uri": "https://localhost:8080/",
          "height": 34
        },
        "outputId": "49f206c9-9e0f-4da0-d7c3-19c8cf2375be"
      },
      "source": [
        "l=[1,2,3,4,5,6,7]\n",
        "new=list(map(lambda x:x**2,l))\n",
        "new"
      ],
      "execution_count": null,
      "outputs": [
        {
          "output_type": "execute_result",
          "data": {
            "text/plain": [
              "[1, 4, 9, 16, 25, 36, 49]"
            ]
          },
          "metadata": {
            "tags": []
          },
          "execution_count": 67
        }
      ]
    },
    {
      "cell_type": "markdown",
      "metadata": {
        "id": "2L1FddHOPq-D"
      },
      "source": [
        "##Functions"
      ]
    },
    {
      "cell_type": "code",
      "metadata": {
        "id": "NSroG9x_gHzA",
        "colab": {
          "base_uri": "https://localhost:8080/",
          "height": 68
        },
        "outputId": "4cb06bde-10de-4eb9-81c0-70e1a36ca68e"
      },
      "source": [
        "def sum(x,y):\n",
        "  return x+y\n",
        "x=int(input(\"Enter 1st number\"))\n",
        "y=int(input(\"Enter 2nd number\"))\n",
        "z=sum(x,y) \n",
        "print(z)"
      ],
      "execution_count": null,
      "outputs": [
        {
          "output_type": "stream",
          "text": [
            "Enter 1st number2\n",
            "Enter 2nd number3\n",
            "5\n"
          ],
          "name": "stdout"
        }
      ]
    },
    {
      "cell_type": "code",
      "metadata": {
        "id": "hrtY5xAARqRL",
        "colab": {
          "base_uri": "https://localhost:8080/",
          "height": 34
        },
        "outputId": "8c01af7d-b58e-43cf-f4a4-a0066c21cc32"
      },
      "source": [
        "l=[1,2,3]\n",
        "def change_list(l):\n",
        "  l.append(4)\n",
        "  l.append(5)\n",
        "change_list(l) \n",
        "l"
      ],
      "execution_count": null,
      "outputs": [
        {
          "output_type": "execute_result",
          "data": {
            "text/plain": [
              "[1, 2, 3, 4, 5]"
            ]
          },
          "metadata": {
            "tags": []
          },
          "execution_count": 8
        }
      ]
    },
    {
      "cell_type": "code",
      "metadata": {
        "id": "KkZB451KSzel",
        "colab": {
          "base_uri": "https://localhost:8080/",
          "height": 51
        },
        "outputId": "9d567e03-ffa0-495f-a001-abff1144f7cc"
      },
      "source": [
        "s1=\"Hello\"\n",
        "def change_str(s):\n",
        "  s=s+\"world\"\n",
        "  print(\"Inside print:\",s)\n",
        "change_str(s1)\n",
        "print(\"outside:\",s1)"
      ],
      "execution_count": null,
      "outputs": [
        {
          "output_type": "stream",
          "text": [
            "Inside print: Helloworld\n",
            "outside: Hello\n"
          ],
          "name": "stdout"
        }
      ]
    },
    {
      "cell_type": "code",
      "metadata": {
        "id": "6IXRTUW0TZBz",
        "colab": {
          "base_uri": "https://localhost:8080/",
          "height": 51
        },
        "outputId": "3774185c-4be6-44f5-99cb-088faa715748"
      },
      "source": [
        "s1=\"Hello\"\n",
        "def change_str(s):\n",
        "  s=s+\"world\"\n",
        "  print(\"Inside print:\",s1)\n",
        "change_str(s1)\n",
        "print(\"outside:\",s1)"
      ],
      "execution_count": null,
      "outputs": [
        {
          "output_type": "stream",
          "text": [
            "Inside print: Hello\n",
            "outside: Hello\n"
          ],
          "name": "stdout"
        }
      ]
    },
    {
      "cell_type": "code",
      "metadata": {
        "id": "zyiR2GzYTt1N",
        "colab": {
          "base_uri": "https://localhost:8080/",
          "height": 85
        },
        "outputId": "70c4e9fe-2cab-4980-b7ff-a91d307491ff"
      },
      "source": [
        "#calculating simple interest\n",
        "def interest(p,r,t):\n",
        "  s=p*r*t/100\n",
        "  return s\n",
        "p=int(input(\"Enter principal amount\"))\n",
        "r=int(input(\"Enter rate of interest\"))\n",
        "t=int(input(\"Enter time\"))\n",
        "s=interest(p,r,t)\n",
        "print(\"Simple Interest is\",s)\n"
      ],
      "execution_count": null,
      "outputs": [
        {
          "output_type": "stream",
          "text": [
            "Enter principal amount1000\n",
            "Enter rate of interest10\n",
            "Enter time1\n",
            "Simple Interest is 100.0\n"
          ],
          "name": "stdout"
        }
      ]
    },
    {
      "cell_type": "code",
      "metadata": {
        "id": "FMLLZ6k-Vgur",
        "colab": {
          "base_uri": "https://localhost:8080/",
          "height": 85
        },
        "outputId": "97838881-24da-4c21-f487-ecad1e2d6e9d"
      },
      "source": [
        "#calculating simple interest by changing order of arguments(example of keyword arguments)\n",
        "def interest(p,r,t):\n",
        "  s=p*r*t/100\n",
        "  return s\n",
        "x=int(input(\"Enter principal amount\"))\n",
        "y=int(input(\"Enter rate of interest\"))\n",
        "z=int(input(\"Enter time\"))\n",
        "s=interest(t=z,r=y,p=x)\n",
        "print(\"Simple Interest is\",s)\n"
      ],
      "execution_count": null,
      "outputs": [
        {
          "output_type": "stream",
          "text": [
            "Enter principal amount1000\n",
            "Enter rate of interest10\n",
            "Enter time1\n",
            "Simple Interest is 100.0\n"
          ],
          "name": "stdout"
        }
      ]
    },
    {
      "cell_type": "code",
      "metadata": {
        "id": "8eZoYzfTXKxc",
        "colab": {
          "base_uri": "https://localhost:8080/",
          "height": 34
        },
        "outputId": "5fd5793c-5692-4e32-e16c-9943caf9cde3"
      },
      "source": [
        "def xyz(message, name1, name2):\n",
        "  print(message,name1,name2)\n",
        "xyz(\"Hello\", name1=\"ayush\", name2=\"arushi\")\n"
      ],
      "execution_count": null,
      "outputs": [
        {
          "output_type": "stream",
          "text": [
            "Hello ayush arushi\n"
          ],
          "name": "stdout"
        }
      ]
    },
    {
      "cell_type": "code",
      "metadata": {
        "id": "W860CMMtYSBf",
        "colab": {
          "base_uri": "https://localhost:8080/",
          "height": 34
        },
        "outputId": "60e24654-0563-45db-cc9c-8f1ebf6310a4"
      },
      "source": [
        "def xyz(name1, name2,message=\"hello\"):  #default arguments should be declared at last\n",
        "  print(message,name1,name2)\n",
        "xyz(name1=\"ayush\", name2=\"arushi\")\n"
      ],
      "execution_count": null,
      "outputs": [
        {
          "output_type": "stream",
          "text": [
            "hello ayush arushi\n"
          ],
          "name": "stdout"
        }
      ]
    },
    {
      "cell_type": "code",
      "metadata": {
        "id": "7M2NDOQ8ZBZn",
        "colab": {
          "base_uri": "https://localhost:8080/",
          "height": 34
        },
        "outputId": "05d48022-60d2-4fc1-84c8-12a74d28c263"
      },
      "source": [
        "def xyz(name1, name2,message=\"hello\"): \n",
        "  print(message,name1,name2)\n",
        "xyz(name1=\"ayush\", name2=\"arushi\", message=\"Bye\")"
      ],
      "execution_count": null,
      "outputs": [
        {
          "output_type": "stream",
          "text": [
            "Bye ayush arushi\n"
          ],
          "name": "stdout"
        }
      ]
    },
    {
      "cell_type": "code",
      "metadata": {
        "id": "fTTJBqN9Zo9g",
        "colab": {
          "base_uri": "https://localhost:8080/",
          "height": 85
        },
        "outputId": "75375d78-c34a-4f71-c33e-82829410bf8f"
      },
      "source": [
        "def var(*var_len):  #tuple is the datatype of variable length argument because it is immutable\n",
        "  print(type(var_len))\n",
        "  for i in var_len:\n",
        "    print(i)\n",
        "var(\"xy\",\"yz\",\"zx\")\n"
      ],
      "execution_count": null,
      "outputs": [
        {
          "output_type": "stream",
          "text": [
            "<class 'tuple'>\n",
            "xy\n",
            "yz\n",
            "zx\n"
          ],
          "name": "stdout"
        }
      ]
    },
    {
      "cell_type": "code",
      "metadata": {
        "id": "LsKA2BkGbDeX",
        "colab": {
          "base_uri": "https://localhost:8080/",
          "height": 85
        },
        "outputId": "42450943-8947-4044-bd8c-8e1978771964"
      },
      "source": [
        "def var(*var_len):  #tuple is the datatype of variable length argument because it is immutable\n",
        "  print(type(var_len))\n",
        "  for i in range(3):\n",
        "    print(var_len[i])\n",
        "var(\"xy\",\"yz\",\"zx\")"
      ],
      "execution_count": null,
      "outputs": [
        {
          "output_type": "stream",
          "text": [
            "<class 'tuple'>\n",
            "xy\n",
            "yz\n",
            "zx\n"
          ],
          "name": "stdout"
        }
      ]
    },
    {
      "cell_type": "code",
      "metadata": {
        "id": "j_v-anmTck2v",
        "colab": {
          "base_uri": "https://localhost:8080/",
          "height": 34
        },
        "outputId": "20675a58-2f8b-4fee-d4c5-ffecf2c5ef87"
      },
      "source": [
        "def sum(*var):\n",
        "  s=0\n",
        "  for i in var:\n",
        "    s=s+i\n",
        "  return s\n",
        "sum(1,2,3,4)\n"
      ],
      "execution_count": null,
      "outputs": [
        {
          "output_type": "execute_result",
          "data": {
            "text/plain": [
              "10"
            ]
          },
          "metadata": {
            "tags": []
          },
          "execution_count": 35
        }
      ]
    },
    {
      "cell_type": "code",
      "metadata": {
        "id": "ysPe-bzPd4kw",
        "colab": {
          "base_uri": "https://localhost:8080/",
          "height": 34
        },
        "outputId": "efb99ea4-e368-47ce-cbc8-879ac69d7348"
      },
      "source": [
        "sum(2,4,6,3,2,3,2)"
      ],
      "execution_count": null,
      "outputs": [
        {
          "output_type": "execute_result",
          "data": {
            "text/plain": [
              "22"
            ]
          },
          "metadata": {
            "tags": []
          },
          "execution_count": 36
        }
      ]
    },
    {
      "cell_type": "code",
      "metadata": {
        "id": "8w9b7WAveVLk",
        "colab": {
          "base_uri": "https://localhost:8080/",
          "height": 34
        },
        "outputId": "a059fc2d-44eb-47ad-9cc9-32eb63678a26"
      },
      "source": [
        "def result(name,roll_no,*args):\n",
        "  s=0\n",
        "  for i in args:\n",
        "    s=s+i\n",
        "  n=len(args)\n",
        "  mm=100*n\n",
        "  per=s/mm*100\n",
        "  print(\"Marks of student with name\",name,\"and roll number\",roll_no,\"is\",per,\"%\")\n",
        "result(\"xyz\",1,81,92,63,48)\n",
        "\n"
      ],
      "execution_count": null,
      "outputs": [
        {
          "output_type": "stream",
          "text": [
            "Marks of student with name xyz and roll number 1 is 71.0 %\n"
          ],
          "name": "stdout"
        }
      ]
    },
    {
      "cell_type": "code",
      "metadata": {
        "id": "SvZxtsRhg2rd",
        "colab": {
          "base_uri": "https://localhost:8080/",
          "height": 34
        },
        "outputId": "9ec3373d-1f02-42d8-b1eb-b67b9dcfb685"
      },
      "source": [
        "result(\"asd\",3,88,92,67,53,89)"
      ],
      "execution_count": null,
      "outputs": [
        {
          "output_type": "stream",
          "text": [
            "Marks of student with name asd and roll number 3 is 77.8 %\n"
          ],
          "name": "stdout"
        }
      ]
    },
    {
      "cell_type": "code",
      "metadata": {
        "id": "hP6VJMg0hc12",
        "colab": {
          "base_uri": "https://localhost:8080/"
        },
        "outputId": "928e4041-e1b7-4724-fff5-5c9fbd098495"
      },
      "source": [
        "def result(name,roll_no,*args):\n",
        "  s=0\n",
        "  for i in args:\n",
        "    s=s+i\n",
        "  n=len(args)\n",
        "  mm=100*n\n",
        "  per=s/mm*100\n",
        "  print(\"Marks of student with name\",name,\"and roll number\",roll_no,\"is\",per,\"%\")\n",
        "name=input(\"Enter name: \")\n",
        "roll_no=int(input(\"Enter roll number: \"))\n",
        "result(name,roll_no,34,43,65,54)"
      ],
      "execution_count": 15,
      "outputs": [
        {
          "output_type": "stream",
          "text": [
            "Enter name: xyz\n",
            "Enter roll number: 21\n",
            "Marks of student with name xyz and roll number 21 is 49.0 %\n"
          ],
          "name": "stdout"
        }
      ]
    },
    {
      "cell_type": "code",
      "metadata": {
        "id": "sMNZjQAsiUKk",
        "colab": {
          "base_uri": "https://localhost:8080/"
        },
        "outputId": "0b9b70c6-b30d-406d-bbbe-d91086a11744"
      },
      "source": [
        "def result(name,roll_no,args):\n",
        "  s=0\n",
        "  for i in args:\n",
        "    s=s+i\n",
        "  n=len(args)\n",
        "  mm=100*n\n",
        "  per=s/mm*100\n",
        "  print(\"Marks of student with name\",name,\"and roll number\",roll_no,\"is\",per,\"%\")\n",
        "name=input(\"Enter name: \")\n",
        "roll_no=int(input(\"Enter roll number: \"))\n",
        "marks=input(\"Enter marks: \")\n",
        "t=tuple(map(int, marks.split(',')))\n",
        "\n",
        "result(name,roll_no,t)"
      ],
      "execution_count": 16,
      "outputs": [
        {
          "output_type": "stream",
          "text": [
            "Enter name: xyz\n",
            "Enter roll number: 21\n",
            "Enter marks: 98\n",
            "Marks of student with name xyz and roll number 21 is 98.0 %\n"
          ],
          "name": "stdout"
        }
      ]
    },
    {
      "cell_type": "code",
      "metadata": {
        "id": "H3dNg-l8lACq",
        "colab": {
          "base_uri": "https://localhost:8080/"
        },
        "outputId": "b8cef891-cee0-4544-ab24-ed74ba52f655"
      },
      "source": [
        "name=input(\"Enter name: \")\n",
        "roll_no=int(input(\"Enter roll number: \"))\n",
        "marks=input(\"enter the marks: \")\n",
        "t=tuple(map(int, marks.split(',')))\n",
        "t\n"
      ],
      "execution_count": 18,
      "outputs": [
        {
          "output_type": "stream",
          "text": [
            "Enter name: bleh\n",
            "Enter roll number: 43\n",
            "enter the marks: 21,43,21\n"
          ],
          "name": "stdout"
        },
        {
          "output_type": "execute_result",
          "data": {
            "text/plain": [
              "(21, 43, 21)"
            ]
          },
          "metadata": {
            "tags": []
          },
          "execution_count": 18
        }
      ]
    },
    {
      "cell_type": "code",
      "metadata": {
        "id": "XZ7rHJj9qjPR",
        "colab": {
          "base_uri": "https://localhost:8080/"
        },
        "outputId": "4ed73180-b74b-444c-a513-6d0ddd7d8a05"
      },
      "source": [
        "def var(**var_len): \n",
        "  print(type(var_len))\n",
        "  \n",
        "var(a=\"xy\",b=\"yz\",c=\"zx\")"
      ],
      "execution_count": 21,
      "outputs": [
        {
          "output_type": "stream",
          "text": [
            "<class 'dict'>\n"
          ],
          "name": "stdout"
        }
      ]
    },
    {
      "cell_type": "code",
      "metadata": {
        "id": "sqV5WElfrKvF",
        "colab": {
          "base_uri": "https://localhost:8080/"
        },
        "outputId": "cb6af999-8fe7-46a7-95ed-66966fc199c9"
      },
      "source": [
        "def var(**kwargs):                          #accessing dictionary items\n",
        "  print(type(kwargs))\n",
        "  for key, value in kwargs.items():\n",
        "    print(\"%s=%s\"%(key,value))\n",
        "  \n",
        "var(a=\"xy\",b=\"yz\",c=\"zx\")\n"
      ],
      "execution_count": 22,
      "outputs": [
        {
          "output_type": "stream",
          "text": [
            "<class 'dict'>\n",
            "a=xy\n",
            "b=yz\n",
            "c=zx\n"
          ],
          "name": "stdout"
        }
      ]
    },
    {
      "cell_type": "code",
      "metadata": {
        "id": "UOFfeCXqrdXS",
        "colab": {
          "base_uri": "https://localhost:8080/"
        },
        "outputId": "354b3371-7ec9-4679-b9cf-346660f09bd1"
      },
      "source": [
        "def var(**kwargs):                          #accessing dictionary items using another loop\n",
        "  for i in kwargs:\n",
        "    print(i,kwargs[i])\n",
        "var(a=\"xy\",b=\"yz\",c=\"zx\")\n"
      ],
      "execution_count": 23,
      "outputs": [
        {
          "output_type": "stream",
          "text": [
            "a xy\n",
            "b yz\n",
            "c zx\n"
          ],
          "name": "stdout"
        }
      ]
    },
    {
      "cell_type": "code",
      "metadata": {
        "id": "CJCuyGRXt8R0",
        "colab": {
          "base_uri": "https://localhost:8080/"
        },
        "outputId": "b3aba4e4-5d28-4729-daa8-680df607f07d"
      },
      "source": [
        "def result(name,roll_no,*args,**kwargs):\n",
        "  s=0\n",
        "  for i in args:\n",
        "    s=s+i\n",
        "  n=len(args)\n",
        "  mm=100*n\n",
        "  per=s/mm*100\n",
        "  for key, value in kwargs.items():\n",
        "    k=key\n",
        "    v=value\n",
        "  print(\"Marks of student with name\",name,\"and roll number\",roll_no,\"of class \",v,\"is\",per,\"%\")\n",
        "name=input(\"Enter name: \")\n",
        "roll_no=int(input(\"Enter roll number: \"))\n",
        "result(name,roll_no,34,43,65,54,cls=\"10th\")"
      ],
      "execution_count": 25,
      "outputs": [
        {
          "output_type": "stream",
          "text": [
            "Enter name: cde\n",
            "Enter roll number: 32\n",
            "Marks of student with name cde and roll number 32 of class  10th is 49.0 %\n"
          ],
          "name": "stdout"
        }
      ]
    },
    {
      "cell_type": "code",
      "metadata": {
        "id": "QG-jw8K0S1c_",
        "colab": {
          "base_uri": "https://localhost:8080/"
        },
        "outputId": "24a715ab-78ac-44e8-a8ee-c4414b970429"
      },
      "source": [
        "def getMissingNo(a, n):  \n",
        "    i, total = 0, 1\n",
        "  \n",
        "    for i in range(2, n + 2): \n",
        "        total += i \n",
        "        total -= a[i - 2] \n",
        "    return total \n",
        "  \n",
        "# Driver Code \n",
        "arr = [6, 9, 8, 10] \n",
        "print(getMissingNo(arr, len(arr))) "
      ],
      "execution_count": 27,
      "outputs": [
        {
          "output_type": "stream",
          "text": [
            "-18\n"
          ],
          "name": "stdout"
        }
      ]
    },
    {
      "cell_type": "code",
      "metadata": {
        "id": "Egm6_pIVcfew"
      },
      "source": [
        ""
      ],
      "execution_count": null,
      "outputs": []
    }
  ]
}