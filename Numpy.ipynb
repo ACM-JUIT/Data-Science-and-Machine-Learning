{
  "nbformat": 4,
  "nbformat_minor": 0,
  "metadata": {
    "kernelspec": {
      "name": "python36",
      "display_name": "Python 3.6",
      "language": "python"
    },
    "language_info": {
      "mimetype": "text/x-python",
      "nbconvert_exporter": "python",
      "name": "python",
      "pygments_lexer": "ipython3",
      "version": "3.6.6",
      "file_extension": ".py",
      "codemirror_mode": {
        "version": 3,
        "name": "ipython"
      }
    },
    "colab": {
      "name": "Numpy.ipynb",
      "provenance": []
    }
  },
  "cells": [
    {
      "cell_type": "code",
      "metadata": {
        "trusted": true,
        "id": "XWEALi8DgLli",
        "colab": {
          "base_uri": "https://localhost:8080/"
        },
        "outputId": "d57cbf7a-0149-43ca-8172-96ac32c7fdc8"
      },
      "source": [
        "import numpy as np\n",
        "a=np.array([1,2,3,4])\n",
        "type(a)\n"
      ],
      "execution_count": 2,
      "outputs": [
        {
          "output_type": "execute_result",
          "data": {
            "text/plain": [
              "numpy.ndarray"
            ]
          },
          "metadata": {
            "tags": []
          },
          "execution_count": 2
        }
      ]
    },
    {
      "cell_type": "code",
      "metadata": {
        "trusted": true,
        "id": "OEWE0zLqgLlr",
        "colab": {
          "base_uri": "https://localhost:8080/"
        },
        "outputId": "188e69ed-386a-4779-cbea-9f7a35dd49e6"
      },
      "source": [
        "a.ndim"
      ],
      "execution_count": 3,
      "outputs": [
        {
          "output_type": "execute_result",
          "data": {
            "text/plain": [
              "1"
            ]
          },
          "metadata": {
            "tags": []
          },
          "execution_count": 3
        }
      ]
    },
    {
      "cell_type": "code",
      "metadata": {
        "trusted": true,
        "scrolled": true,
        "id": "8zMdQVTegLlt",
        "colab": {
          "base_uri": "https://localhost:8080/"
        },
        "outputId": "572a50b4-8cf2-42f4-e16f-a23ad90526a8"
      },
      "source": [
        "a"
      ],
      "execution_count": 4,
      "outputs": [
        {
          "output_type": "execute_result",
          "data": {
            "text/plain": [
              "array([1, 2, 3, 4])"
            ]
          },
          "metadata": {
            "tags": []
          },
          "execution_count": 4
        }
      ]
    },
    {
      "cell_type": "code",
      "metadata": {
        "trusted": true,
        "id": "3yAe9JcDgLlt",
        "colab": {
          "base_uri": "https://localhost:8080/"
        },
        "outputId": "4dd7efea-ddbb-44b0-ccc2-1de46a3dcb08"
      },
      "source": [
        "a.dtype"
      ],
      "execution_count": 5,
      "outputs": [
        {
          "output_type": "execute_result",
          "data": {
            "text/plain": [
              "dtype('int64')"
            ]
          },
          "metadata": {
            "tags": []
          },
          "execution_count": 5
        }
      ]
    },
    {
      "cell_type": "code",
      "metadata": {
        "trusted": true,
        "id": "ixyVKYg4gLlu",
        "colab": {
          "base_uri": "https://localhost:8080/"
        },
        "outputId": "c5f431b8-ed77-4e09-8081-000c1b3a7923"
      },
      "source": [
        "a=np.array([1,2,3,4],dtype=float)\n",
        "type(a)\n",
        "a"
      ],
      "execution_count": 7,
      "outputs": [
        {
          "output_type": "execute_result",
          "data": {
            "text/plain": [
              "array([1., 2., 3., 4.])"
            ]
          },
          "metadata": {
            "tags": []
          },
          "execution_count": 7
        }
      ]
    },
    {
      "cell_type": "code",
      "metadata": {
        "trusted": true,
        "id": "-jHSECCjgLlu",
        "colab": {
          "base_uri": "https://localhost:8080/"
        },
        "outputId": "6333abb0-2abc-494d-cdf1-171626da5123"
      },
      "source": [
        "a=np.array([[2,23,43],[1,3,4]],ndmin=3)\n",
        "a"
      ],
      "execution_count": 8,
      "outputs": [
        {
          "output_type": "execute_result",
          "data": {
            "text/plain": [
              "array([[[ 2, 23, 43],\n",
              "        [ 1,  3,  4]]])"
            ]
          },
          "metadata": {
            "tags": []
          },
          "execution_count": 8
        }
      ]
    },
    {
      "cell_type": "code",
      "metadata": {
        "trusted": true,
        "id": "1VPWnt9YgLlu",
        "colab": {
          "base_uri": "https://localhost:8080/"
        },
        "outputId": "50f8051c-4598-4020-90f7-091e4c9e095c"
      },
      "source": [
        "a.ndim"
      ],
      "execution_count": 9,
      "outputs": [
        {
          "output_type": "execute_result",
          "data": {
            "text/plain": [
              "3"
            ]
          },
          "metadata": {
            "tags": []
          },
          "execution_count": 9
        }
      ]
    },
    {
      "cell_type": "code",
      "metadata": {
        "trusted": true,
        "id": "SqrUR70wgLlv",
        "colab": {
          "base_uri": "https://localhost:8080/"
        },
        "outputId": "dead4c9e-77bd-4911-9d8e-c466bdbce95e"
      },
      "source": [
        "dt=np.dtype('int64')\n",
        "dt"
      ],
      "execution_count": 10,
      "outputs": [
        {
          "output_type": "execute_result",
          "data": {
            "text/plain": [
              "dtype('int64')"
            ]
          },
          "metadata": {
            "tags": []
          },
          "execution_count": 10
        }
      ]
    },
    {
      "cell_type": "code",
      "metadata": {
        "trusted": true,
        "id": "4agjZICugLlv",
        "colab": {
          "base_uri": "https://localhost:8080/"
        },
        "outputId": "4c5d939d-1059-4147-80ba-ec9934a09d66"
      },
      "source": [
        "a.astype('int64')"
      ],
      "execution_count": 11,
      "outputs": [
        {
          "output_type": "execute_result",
          "data": {
            "text/plain": [
              "array([[[ 2, 23, 43],\n",
              "        [ 1,  3,  4]]])"
            ]
          },
          "metadata": {
            "tags": []
          },
          "execution_count": 11
        }
      ]
    },
    {
      "cell_type": "code",
      "metadata": {
        "trusted": true,
        "id": "_yi_SeG-gLlw",
        "colab": {
          "base_uri": "https://localhost:8080/"
        },
        "outputId": "8bd3b792-5087-4233-b996-e24fb3ad37ee"
      },
      "source": [
        "a.dtype"
      ],
      "execution_count": 12,
      "outputs": [
        {
          "output_type": "execute_result",
          "data": {
            "text/plain": [
              "dtype('int64')"
            ]
          },
          "metadata": {
            "tags": []
          },
          "execution_count": 12
        }
      ]
    },
    {
      "cell_type": "code",
      "metadata": {
        "trusted": true,
        "id": "zs5cW5vhgLlw",
        "colab": {
          "base_uri": "https://localhost:8080/"
        },
        "outputId": "6dab549d-99e2-4740-8847-f194ea0c65ea"
      },
      "source": [
        "a=np.array(['a',2,4.6],dtype='object')\n",
        "a"
      ],
      "execution_count": 13,
      "outputs": [
        {
          "output_type": "execute_result",
          "data": {
            "text/plain": [
              "array(['a', 2, 4.6], dtype=object)"
            ]
          },
          "metadata": {
            "tags": []
          },
          "execution_count": 13
        }
      ]
    },
    {
      "cell_type": "code",
      "metadata": {
        "trusted": true,
        "id": "pHugLh6VgLl0",
        "colab": {
          "base_uri": "https://localhost:8080/"
        },
        "outputId": "b9981165-d6c9-4d08-b27e-e1b261277580"
      },
      "source": [
        "#tolist method, (Used to change to list)\n",
        "a.tolist()"
      ],
      "execution_count": 14,
      "outputs": [
        {
          "output_type": "execute_result",
          "data": {
            "text/plain": [
              "['a', 2, 4.6]"
            ]
          },
          "metadata": {
            "tags": []
          },
          "execution_count": 14
        }
      ]
    },
    {
      "cell_type": "code",
      "metadata": {
        "trusted": true,
        "id": "4N6hSBWYgLl1",
        "colab": {
          "base_uri": "https://localhost:8080/"
        },
        "outputId": "f3301e85-1c34-4320-d87a-e4468c7c15bb"
      },
      "source": [
        "arr=np.array([[1,2,3,4],[5,6,7,8]])\n",
        "arr.shape"
      ],
      "execution_count": 15,
      "outputs": [
        {
          "output_type": "execute_result",
          "data": {
            "text/plain": [
              "(2, 4)"
            ]
          },
          "metadata": {
            "tags": []
          },
          "execution_count": 15
        }
      ]
    },
    {
      "cell_type": "code",
      "metadata": {
        "trusted": true,
        "id": "ZnvvX7M-gLl1",
        "colab": {
          "base_uri": "https://localhost:8080/"
        },
        "outputId": "bcce9ed7-e389-4db9-e782-c2eb12bcf20a"
      },
      "source": [
        "arr.ndim"
      ],
      "execution_count": 16,
      "outputs": [
        {
          "output_type": "execute_result",
          "data": {
            "text/plain": [
              "2"
            ]
          },
          "metadata": {
            "tags": []
          },
          "execution_count": 16
        }
      ]
    },
    {
      "cell_type": "code",
      "metadata": {
        "trusted": true,
        "id": "feHQRS53gLl1",
        "colab": {
          "base_uri": "https://localhost:8080/"
        },
        "outputId": "8d32412b-885b-4953-9055-5d5d36b58e6a"
      },
      "source": [
        "arr.dtype"
      ],
      "execution_count": 17,
      "outputs": [
        {
          "output_type": "execute_result",
          "data": {
            "text/plain": [
              "dtype('int64')"
            ]
          },
          "metadata": {
            "tags": []
          },
          "execution_count": 17
        }
      ]
    },
    {
      "cell_type": "code",
      "metadata": {
        "trusted": true,
        "id": "UHq8u8QfgLl2",
        "colab": {
          "base_uri": "https://localhost:8080/"
        },
        "outputId": "108e1013-bec5-402a-8bcf-e5c129570ada"
      },
      "source": [
        "arr.itemsize"
      ],
      "execution_count": 18,
      "outputs": [
        {
          "output_type": "execute_result",
          "data": {
            "text/plain": [
              "8"
            ]
          },
          "metadata": {
            "tags": []
          },
          "execution_count": 18
        }
      ]
    },
    {
      "cell_type": "code",
      "metadata": {
        "trusted": true,
        "id": "OAdsWV1XgLl2",
        "colab": {
          "base_uri": "https://localhost:8080/"
        },
        "outputId": "3ed76e9f-05d3-4402-adf5-c4a8097db733"
      },
      "source": [
        "arr.flags"
      ],
      "execution_count": 19,
      "outputs": [
        {
          "output_type": "execute_result",
          "data": {
            "text/plain": [
              "  C_CONTIGUOUS : True\n",
              "  F_CONTIGUOUS : False\n",
              "  OWNDATA : True\n",
              "  WRITEABLE : True\n",
              "  ALIGNED : True\n",
              "  WRITEBACKIFCOPY : False\n",
              "  UPDATEIFCOPY : False"
            ]
          },
          "metadata": {
            "tags": []
          },
          "execution_count": 19
        }
      ]
    },
    {
      "cell_type": "code",
      "metadata": {
        "trusted": true,
        "id": "KakWH6NWgLl2",
        "colab": {
          "base_uri": "https://localhost:8080/"
        },
        "outputId": "b9063c61-3525-4293-c234-a7d9b8c43aa6"
      },
      "source": [
        "from numpy import arange \n",
        "from timeit import Timer\n",
        "n=10000\n",
        "x=arange(n)\n",
        "y=range(n)\n",
        "tn=Timer(\"x.sum()\",\"from __main__ import x\")\n",
        "tl=Timer(\"sum(y)\",\"from __main__ import y\")\n",
        "tn.timeit(n)"
      ],
      "execution_count": 20,
      "outputs": [
        {
          "output_type": "execute_result",
          "data": {
            "text/plain": [
              "0.10115398700000355"
            ]
          },
          "metadata": {
            "tags": []
          },
          "execution_count": 20
        }
      ]
    },
    {
      "cell_type": "code",
      "metadata": {
        "trusted": true,
        "id": "5X8TcUrSgLl3",
        "colab": {
          "base_uri": "https://localhost:8080/"
        },
        "outputId": "c8309e90-16a3-4b87-d32e-757e421755d3"
      },
      "source": [
        "tl.timeit(n)"
      ],
      "execution_count": 21,
      "outputs": [
        {
          "output_type": "execute_result",
          "data": {
            "text/plain": [
              "1.731147452000016"
            ]
          },
          "metadata": {
            "tags": []
          },
          "execution_count": 21
        }
      ]
    },
    {
      "cell_type": "markdown",
      "metadata": {
        "id": "-Z76SxrWgLl3"
      },
      "source": [
        "# methods to create an array"
      ]
    },
    {
      "cell_type": "markdown",
      "metadata": {
        "id": "RmRQrkjfgLl3"
      },
      "source": [
        "#### Using list and other data structures"
      ]
    },
    {
      "cell_type": "code",
      "metadata": {
        "trusted": true,
        "colab": {
          "base_uri": "https://localhost:8080/"
        },
        "id": "v8QuzmilgLl4",
        "outputId": "1ace1e2d-a660-435a-e12d-0c38828796f0"
      },
      "source": [
        "l=[1,2,3,4]\n",
        "a=np.array(l)\n",
        "a"
      ],
      "execution_count": 22,
      "outputs": [
        {
          "output_type": "execute_result",
          "data": {
            "text/plain": [
              "array([1, 2, 3, 4])"
            ]
          },
          "metadata": {
            "tags": []
          },
          "execution_count": 22
        }
      ]
    },
    {
      "cell_type": "markdown",
      "metadata": {
        "id": "6Mbk5rzegLl4"
      },
      "source": [
        "#### from numpy functions"
      ]
    },
    {
      "cell_type": "markdown",
      "metadata": {
        "id": "LYeaTzk6gLl4"
      },
      "source": [
        "#1. empty()\n",
        "a=np.empty([3,2],dtype='int32)\n",
        "a"
      ]
    },
    {
      "cell_type": "code",
      "metadata": {
        "trusted": true,
        "id": "X7-EPuiZgLl4",
        "colab": {
          "base_uri": "https://localhost:8080/"
        },
        "outputId": "eb7eb04f-e95a-4323-d1d6-d6820857a500"
      },
      "source": [
        "a=np.empty([3,2],dtype='int32') \n",
        "a"
      ],
      "execution_count": 23,
      "outputs": [
        {
          "output_type": "execute_result",
          "data": {
            "text/plain": [
              "array([[         0, 1072168960],\n",
              "       [         0, 1072168960],\n",
              "       [         0,          0]], dtype=int32)"
            ]
          },
          "metadata": {
            "tags": []
          },
          "execution_count": 23
        }
      ]
    },
    {
      "cell_type": "code",
      "metadata": {
        "trusted": true,
        "id": "BBGJFmrygLl5",
        "colab": {
          "base_uri": "https://localhost:8080/"
        },
        "outputId": "b6f64651-8673-4031-f0c6-3e876fc2d83f"
      },
      "source": [
        "a2=np.zeros([2,3])\n",
        "a2"
      ],
      "execution_count": 24,
      "outputs": [
        {
          "output_type": "execute_result",
          "data": {
            "text/plain": [
              "array([[0., 0., 0.],\n",
              "       [0., 0., 0.]])"
            ]
          },
          "metadata": {
            "tags": []
          },
          "execution_count": 24
        }
      ]
    },
    {
      "cell_type": "code",
      "metadata": {
        "trusted": true,
        "id": "8G9nPJdKgLl6",
        "colab": {
          "base_uri": "https://localhost:8080/"
        },
        "outputId": "3f7c2469-de7b-4202-eb75-a7ac7d44e87b"
      },
      "source": [
        "a2=np.ones([2,3],dtype='int32')\n",
        "a2"
      ],
      "execution_count": 25,
      "outputs": [
        {
          "output_type": "execute_result",
          "data": {
            "text/plain": [
              "array([[1, 1, 1],\n",
              "       [1, 1, 1]], dtype=int32)"
            ]
          },
          "metadata": {
            "tags": []
          },
          "execution_count": 25
        }
      ]
    },
    {
      "cell_type": "code",
      "metadata": {
        "trusted": true,
        "id": "sKcZQq0dgLl6",
        "colab": {
          "base_uri": "https://localhost:8080/"
        },
        "outputId": "ade55238-27a3-4a69-bccf-5391eb56ad5a"
      },
      "source": [
        "a2=np.full([2,3],5.6)\n",
        "a2"
      ],
      "execution_count": 26,
      "outputs": [
        {
          "output_type": "execute_result",
          "data": {
            "text/plain": [
              "array([[5.6, 5.6, 5.6],\n",
              "       [5.6, 5.6, 5.6]])"
            ]
          },
          "metadata": {
            "tags": []
          },
          "execution_count": 26
        }
      ]
    },
    {
      "cell_type": "code",
      "metadata": {
        "trusted": true,
        "id": "wGqCo_WWgLl7",
        "colab": {
          "base_uri": "https://localhost:8080/"
        },
        "outputId": "c6a14ce0-af09-4375-aee1-3364d981a981"
      },
      "source": [
        "a2.dtype"
      ],
      "execution_count": 27,
      "outputs": [
        {
          "output_type": "execute_result",
          "data": {
            "text/plain": [
              "dtype('float64')"
            ]
          },
          "metadata": {
            "tags": []
          },
          "execution_count": 27
        }
      ]
    },
    {
      "cell_type": "code",
      "metadata": {
        "trusted": true,
        "id": "8CeNvXNQgLl7",
        "colab": {
          "base_uri": "https://localhost:8080/"
        },
        "outputId": "e5b1dd4e-0879-48ff-cc11-0d726d64cf5a"
      },
      "source": [
        "%%timeit \n",
        "np.empty(1000000)"
      ],
      "execution_count": 28,
      "outputs": [
        {
          "output_type": "stream",
          "text": [
            "The slowest run took 104.53 times longer than the fastest. This could mean that an intermediate result is being cached.\n",
            "1000000 loops, best of 3: 2 µs per loop\n"
          ],
          "name": "stdout"
        }
      ]
    },
    {
      "cell_type": "code",
      "metadata": {
        "trusted": true,
        "id": "WpnAW0xggLl8",
        "colab": {
          "base_uri": "https://localhost:8080/"
        },
        "outputId": "8b9c05d5-a286-43c6-e418-b98a8ae2ccce"
      },
      "source": [
        "%%timeit \n",
        "np.ones(1000000)"
      ],
      "execution_count": 29,
      "outputs": [
        {
          "output_type": "stream",
          "text": [
            "The slowest run took 11.52 times longer than the fastest. This could mean that an intermediate result is being cached.\n",
            "1000 loops, best of 3: 554 µs per loop\n"
          ],
          "name": "stdout"
        }
      ]
    },
    {
      "cell_type": "code",
      "metadata": {
        "trusted": true,
        "id": "oUA1SCzugLl9",
        "colab": {
          "base_uri": "https://localhost:8080/"
        },
        "outputId": "5a83178c-cd76-417f-b01c-6940913ed494"
      },
      "source": [
        "np.eye(3)"
      ],
      "execution_count": 30,
      "outputs": [
        {
          "output_type": "execute_result",
          "data": {
            "text/plain": [
              "array([[1., 0., 0.],\n",
              "       [0., 1., 0.],\n",
              "       [0., 0., 1.]])"
            ]
          },
          "metadata": {
            "tags": []
          },
          "execution_count": 30
        }
      ]
    },
    {
      "cell_type": "code",
      "metadata": {
        "trusted": true,
        "id": "o0lxzbm4gLl9",
        "colab": {
          "base_uri": "https://localhost:8080/"
        },
        "outputId": "efb11443-2f0d-4a6a-8411-6f90b779f00a"
      },
      "source": [
        "np.identity(3)                #same as np.eye but has only two attributes"
      ],
      "execution_count": 31,
      "outputs": [
        {
          "output_type": "execute_result",
          "data": {
            "text/plain": [
              "array([[1., 0., 0.],\n",
              "       [0., 1., 0.],\n",
              "       [0., 0., 1.]])"
            ]
          },
          "metadata": {
            "tags": []
          },
          "execution_count": 31
        }
      ]
    },
    {
      "cell_type": "code",
      "metadata": {
        "trusted": true,
        "id": "5cHZGJRIgLl9",
        "colab": {
          "base_uri": "https://localhost:8080/"
        },
        "outputId": "76a14aa3-dedc-4e71-a5cb-910ecb0f0bba"
      },
      "source": [
        "np.eye(4,5,k=-1)"
      ],
      "execution_count": 32,
      "outputs": [
        {
          "output_type": "execute_result",
          "data": {
            "text/plain": [
              "array([[0., 0., 0., 0., 0.],\n",
              "       [1., 0., 0., 0., 0.],\n",
              "       [0., 1., 0., 0., 0.],\n",
              "       [0., 0., 1., 0., 0.]])"
            ]
          },
          "metadata": {
            "tags": []
          },
          "execution_count": 32
        }
      ]
    },
    {
      "cell_type": "markdown",
      "metadata": {
        "id": "pcbouyqmgLl-"
      },
      "source": [
        "###### Reshaping in array"
      ]
    },
    {
      "cell_type": "code",
      "metadata": {
        "trusted": true,
        "id": "1jh1hOEJgLl-",
        "colab": {
          "base_uri": "https://localhost:8080/"
        },
        "outputId": "738f9f01-74b9-4195-b274-e7aa7216401e"
      },
      "source": [
        "a=np.arange(8)\n",
        "print(a)"
      ],
      "execution_count": 33,
      "outputs": [
        {
          "output_type": "stream",
          "text": [
            "[0 1 2 3 4 5 6 7]\n"
          ],
          "name": "stdout"
        }
      ]
    },
    {
      "cell_type": "code",
      "metadata": {
        "trusted": true,
        "id": "q4VNE8j8gLl-",
        "colab": {
          "base_uri": "https://localhost:8080/"
        },
        "outputId": "404967bc-1383-46b9-c444-7fe48e8d7384"
      },
      "source": [
        "a2=a.reshape(2,4)\n",
        "a2"
      ],
      "execution_count": 34,
      "outputs": [
        {
          "output_type": "execute_result",
          "data": {
            "text/plain": [
              "array([[0, 1, 2, 3],\n",
              "       [4, 5, 6, 7]])"
            ]
          },
          "metadata": {
            "tags": []
          },
          "execution_count": 34
        }
      ]
    },
    {
      "cell_type": "code",
      "metadata": {
        "trusted": true,
        "id": "CSa69VeogLl_",
        "colab": {
          "base_uri": "https://localhost:8080/"
        },
        "outputId": "2e80fa32-7019-462e-c1d9-71386d3a6969"
      },
      "source": [
        "a3=a.reshape(4,2)\n",
        "a3"
      ],
      "execution_count": 35,
      "outputs": [
        {
          "output_type": "execute_result",
          "data": {
            "text/plain": [
              "array([[0, 1],\n",
              "       [2, 3],\n",
              "       [4, 5],\n",
              "       [6, 7]])"
            ]
          },
          "metadata": {
            "tags": []
          },
          "execution_count": 35
        }
      ]
    },
    {
      "cell_type": "code",
      "metadata": {
        "trusted": true,
        "id": "dwRjU9uigLl_",
        "colab": {
          "base_uri": "https://localhost:8080/"
        },
        "outputId": "e46213b6-801d-487d-eaa5-40739f017a4c"
      },
      "source": [
        "a3=a.reshape(2,2,2)\n",
        "a3"
      ],
      "execution_count": 36,
      "outputs": [
        {
          "output_type": "execute_result",
          "data": {
            "text/plain": [
              "array([[[0, 1],\n",
              "        [2, 3]],\n",
              "\n",
              "       [[4, 5],\n",
              "        [6, 7]]])"
            ]
          },
          "metadata": {
            "tags": []
          },
          "execution_count": 36
        }
      ]
    },
    {
      "cell_type": "code",
      "metadata": {
        "trusted": true,
        "id": "ib77sRdWgLl_",
        "colab": {
          "base_uri": "https://localhost:8080/"
        },
        "outputId": "b94a66cf-903a-4a79-b6cd-44253c9b7f44"
      },
      "source": [
        "a3.shape"
      ],
      "execution_count": 37,
      "outputs": [
        {
          "output_type": "execute_result",
          "data": {
            "text/plain": [
              "(2, 2, 2)"
            ]
          },
          "metadata": {
            "tags": []
          },
          "execution_count": 37
        }
      ]
    },
    {
      "cell_type": "code",
      "metadata": {
        "trusted": true,
        "id": "AMsIEpI1gLmA",
        "colab": {
          "base_uri": "https://localhost:8080/"
        },
        "outputId": "86ab70f8-ba0d-49d8-9a71-ddd8e0e89089"
      },
      "source": [
        "a3.reshape(-1).shape       #-1 changes in to (1,n)"
      ],
      "execution_count": 38,
      "outputs": [
        {
          "output_type": "execute_result",
          "data": {
            "text/plain": [
              "(8,)"
            ]
          },
          "metadata": {
            "tags": []
          },
          "execution_count": 38
        }
      ]
    },
    {
      "cell_type": "code",
      "metadata": {
        "trusted": true,
        "id": "nBT2zyMqgLmA",
        "colab": {
          "base_uri": "https://localhost:8080/"
        },
        "outputId": "c520fe7e-043e-4cc6-bd92-3fdf528d99c6"
      },
      "source": [
        "a3.shape"
      ],
      "execution_count": 39,
      "outputs": [
        {
          "output_type": "execute_result",
          "data": {
            "text/plain": [
              "(2, 2, 2)"
            ]
          },
          "metadata": {
            "tags": []
          },
          "execution_count": 39
        }
      ]
    },
    {
      "cell_type": "code",
      "metadata": {
        "trusted": true,
        "id": "HijMXzyqgLmB",
        "colab": {
          "base_uri": "https://localhost:8080/"
        },
        "outputId": "93a3eaa3-6027-4ca7-8ca1-87973b7e510b"
      },
      "source": [
        "a3.reshape(-1,1)"
      ],
      "execution_count": 40,
      "outputs": [
        {
          "output_type": "execute_result",
          "data": {
            "text/plain": [
              "array([[0],\n",
              "       [1],\n",
              "       [2],\n",
              "       [3],\n",
              "       [4],\n",
              "       [5],\n",
              "       [6],\n",
              "       [7]])"
            ]
          },
          "metadata": {
            "tags": []
          },
          "execution_count": 40
        }
      ]
    },
    {
      "cell_type": "code",
      "metadata": {
        "trusted": true,
        "id": "XxfO2DlEgLmB",
        "colab": {
          "base_uri": "https://localhost:8080/"
        },
        "outputId": "0b578ae0-278e-423b-c1f0-fa15af7c4d1b"
      },
      "source": [
        "a3.reshape(-2,2)"
      ],
      "execution_count": 41,
      "outputs": [
        {
          "output_type": "execute_result",
          "data": {
            "text/plain": [
              "array([[0, 1],\n",
              "       [2, 3],\n",
              "       [4, 5],\n",
              "       [6, 7]])"
            ]
          },
          "metadata": {
            "tags": []
          },
          "execution_count": 41
        }
      ]
    },
    {
      "cell_type": "code",
      "metadata": {
        "trusted": true,
        "id": "vCAfhCB4gLmB",
        "colab": {
          "base_uri": "https://localhost:8080/"
        },
        "outputId": "ca17d32d-210c-4c75-a139-e82c1b69a6f9"
      },
      "source": [
        "a3.reshape(1,-1)"
      ],
      "execution_count": 42,
      "outputs": [
        {
          "output_type": "execute_result",
          "data": {
            "text/plain": [
              "array([[0, 1, 2, 3, 4, 5, 6, 7]])"
            ]
          },
          "metadata": {
            "tags": []
          },
          "execution_count": 42
        }
      ]
    },
    {
      "cell_type": "markdown",
      "metadata": {
        "id": "wuiPViBAgLmC"
      },
      "source": [
        "## CREATION OF ARRAY FROM EXISTING DATA"
      ]
    },
    {
      "cell_type": "code",
      "metadata": {
        "trusted": true,
        "id": "U5S884kKgLmC",
        "colab": {
          "base_uri": "https://localhost:8080/"
        },
        "outputId": "ed60a94a-53a9-48d0-ee8b-e7cdc7fe6d92"
      },
      "source": [
        "a=np.asarray(l)\n",
        "a"
      ],
      "execution_count": 43,
      "outputs": [
        {
          "output_type": "execute_result",
          "data": {
            "text/plain": [
              "array([1, 2, 3, 4])"
            ]
          },
          "metadata": {
            "tags": []
          },
          "execution_count": 43
        }
      ]
    },
    {
      "cell_type": "markdown",
      "metadata": {
        "id": "Ad5HH4bWgLmC"
      },
      "source": [
        "### using from iter"
      ]
    },
    {
      "cell_type": "code",
      "metadata": {
        "trusted": true,
        "id": "8lluk5wlgLmC",
        "colab": {
          "base_uri": "https://localhost:8080/"
        },
        "outputId": "f1239355-33f6-490f-825f-93a56d5f5c74"
      },
      "source": [
        "it=iter(l)\n",
        "ai=np.fromiter(it,dtype=int)\n",
        "ai"
      ],
      "execution_count": 45,
      "outputs": [
        {
          "output_type": "execute_result",
          "data": {
            "text/plain": [
              "array([1, 2, 3, 4])"
            ]
          },
          "metadata": {
            "tags": []
          },
          "execution_count": 45
        }
      ]
    },
    {
      "cell_type": "markdown",
      "metadata": {
        "id": "RiWRcJ2lgLmD"
      },
      "source": [
        "### array from numerical ranges"
      ]
    },
    {
      "cell_type": "code",
      "metadata": {
        "trusted": true,
        "id": "pmPilb7JgLmD",
        "colab": {
          "base_uri": "https://localhost:8080/"
        },
        "outputId": "7767e352-a750-4f24-a5c6-f91bc47c5150"
      },
      "source": [
        "a=np.arange(0,100,5)\n",
        "a"
      ],
      "execution_count": 46,
      "outputs": [
        {
          "output_type": "execute_result",
          "data": {
            "text/plain": [
              "array([ 0,  5, 10, 15, 20, 25, 30, 35, 40, 45, 50, 55, 60, 65, 70, 75, 80,\n",
              "       85, 90, 95])"
            ]
          },
          "metadata": {
            "tags": []
          },
          "execution_count": 46
        }
      ]
    },
    {
      "cell_type": "code",
      "metadata": {
        "trusted": true,
        "id": "WC8Fih8ygLmD",
        "colab": {
          "base_uri": "https://localhost:8080/"
        },
        "outputId": "5e357fdd-875b-4c16-9f46-44a2347980c2"
      },
      "source": [
        "a=np.linspace(0,10,10,endpoint=False)\n",
        "a"
      ],
      "execution_count": 47,
      "outputs": [
        {
          "output_type": "execute_result",
          "data": {
            "text/plain": [
              "array([0., 1., 2., 3., 4., 5., 6., 7., 8., 9.])"
            ]
          },
          "metadata": {
            "tags": []
          },
          "execution_count": 47
        }
      ]
    },
    {
      "cell_type": "code",
      "metadata": {
        "trusted": true,
        "id": "OjCbCK8HgLmD",
        "colab": {
          "base_uri": "https://localhost:8080/"
        },
        "outputId": "bb732366-55e7-4282-9054-adf216ed9270"
      },
      "source": [
        "a=np.logspace(1,10,num=9,base=2)                 #num specifies number of elements, by default base is e\n",
        "a"
      ],
      "execution_count": 48,
      "outputs": [
        {
          "output_type": "execute_result",
          "data": {
            "text/plain": [
              "array([   2.        ,    4.36203093,    9.51365692,   20.74943287,\n",
              "         45.254834  ,   98.70149283,  215.2694823 ,  469.50607012,\n",
              "       1024.        ])"
            ]
          },
          "metadata": {
            "tags": []
          },
          "execution_count": 48
        }
      ]
    },
    {
      "cell_type": "markdown",
      "metadata": {
        "id": "eN5zcWkogLmE"
      },
      "source": [
        "## Array indexing and slicing"
      ]
    },
    {
      "cell_type": "code",
      "metadata": {
        "trusted": true,
        "id": "Z1t6y7kQgLmE",
        "colab": {
          "base_uri": "https://localhost:8080/"
        },
        "outputId": "3af2902e-f539-46f1-c162-2aa45cb2200c"
      },
      "source": [
        "a=np.array([[1,2,3],[4,5,6],[7,8,9]])\n",
        "a[1,...]"
      ],
      "execution_count": 49,
      "outputs": [
        {
          "output_type": "execute_result",
          "data": {
            "text/plain": [
              "array([4, 5, 6])"
            ]
          },
          "metadata": {
            "tags": []
          },
          "execution_count": 49
        }
      ]
    },
    {
      "cell_type": "code",
      "metadata": {
        "trusted": true,
        "id": "blJuVK8ggLmE",
        "colab": {
          "base_uri": "https://localhost:8080/"
        },
        "outputId": "e20e4f54-1928-4e66-e44a-715089b7aa78"
      },
      "source": [
        "a=np.fromfunction(lambda i,j:i+j,(3,3))\n",
        "a"
      ],
      "execution_count": 50,
      "outputs": [
        {
          "output_type": "execute_result",
          "data": {
            "text/plain": [
              "array([[0., 1., 2.],\n",
              "       [1., 2., 3.],\n",
              "       [2., 3., 4.]])"
            ]
          },
          "metadata": {
            "tags": []
          },
          "execution_count": 50
        }
      ]
    },
    {
      "cell_type": "markdown",
      "metadata": {
        "id": "GiCXOMdQgLmF"
      },
      "source": [
        "## Boolean indexing"
      ]
    },
    {
      "cell_type": "code",
      "metadata": {
        "trusted": true,
        "id": "XTCbVhyxgLmF",
        "colab": {
          "base_uri": "https://localhost:8080/"
        },
        "outputId": "35aac5ba-c2d7-441a-bf58-a1dbe79e3e27"
      },
      "source": [
        "a=np.arange(1,10)\n",
        "a=a.reshape(3,3)\n",
        "print(a)"
      ],
      "execution_count": 51,
      "outputs": [
        {
          "output_type": "stream",
          "text": [
            "[[1 2 3]\n",
            " [4 5 6]\n",
            " [7 8 9]]\n"
          ],
          "name": "stdout"
        }
      ]
    },
    {
      "cell_type": "code",
      "metadata": {
        "trusted": true,
        "id": "d6wS_SRXgLmF",
        "colab": {
          "base_uri": "https://localhost:8080/"
        },
        "outputId": "ffcf81f2-1794-4f8e-c17f-232dd6bf08f8"
      },
      "source": [
        "a[a>5]"
      ],
      "execution_count": 52,
      "outputs": [
        {
          "output_type": "execute_result",
          "data": {
            "text/plain": [
              "array([6, 7, 8, 9])"
            ]
          },
          "metadata": {
            "tags": []
          },
          "execution_count": 52
        }
      ]
    },
    {
      "cell_type": "markdown",
      "metadata": {
        "id": "yyiHXiVGgLmG"
      },
      "source": [
        "#### broadcasting"
      ]
    },
    {
      "cell_type": "code",
      "metadata": {
        "trusted": true,
        "id": "7tRf5xaAgLmG",
        "colab": {
          "base_uri": "https://localhost:8080/"
        },
        "outputId": "e8cb6833-592e-4450-f142-fa9820dccee4"
      },
      "source": [
        "a=np.arange(1,10)\n",
        "a=a.reshape(3,3)\n",
        "b=np.arange(1,4)\n",
        "print(a)\n",
        "print(b)\n",
        "a+b"
      ],
      "execution_count": 53,
      "outputs": [
        {
          "output_type": "stream",
          "text": [
            "[[1 2 3]\n",
            " [4 5 6]\n",
            " [7 8 9]]\n",
            "[1 2 3]\n"
          ],
          "name": "stdout"
        },
        {
          "output_type": "execute_result",
          "data": {
            "text/plain": [
              "array([[ 2,  4,  6],\n",
              "       [ 5,  7,  9],\n",
              "       [ 8, 10, 12]])"
            ]
          },
          "metadata": {
            "tags": []
          },
          "execution_count": 53
        }
      ]
    },
    {
      "cell_type": "markdown",
      "metadata": {
        "id": "mX-cvN6cgLmG"
      },
      "source": [
        "## transpose function"
      ]
    },
    {
      "cell_type": "code",
      "metadata": {
        "trusted": true,
        "id": "cVaKkh7WgLmH",
        "colab": {
          "base_uri": "https://localhost:8080/"
        },
        "outputId": "da333dfc-8c07-4b96-ae53-859d2116cc53"
      },
      "source": [
        "a=np.arange(1,10)\n",
        "a=a.reshape(3,3)\n",
        "a.transpose()\n"
      ],
      "execution_count": 54,
      "outputs": [
        {
          "output_type": "execute_result",
          "data": {
            "text/plain": [
              "array([[1, 4, 7],\n",
              "       [2, 5, 8],\n",
              "       [3, 6, 9]])"
            ]
          },
          "metadata": {
            "tags": []
          },
          "execution_count": 54
        }
      ]
    },
    {
      "cell_type": "code",
      "metadata": {
        "trusted": true,
        "id": "ifxTvYzmgLmH",
        "colab": {
          "base_uri": "https://localhost:8080/"
        },
        "outputId": "ed790dc0-e873-464b-e733-cfd06e390a34"
      },
      "source": [
        "a=np.arange(0,4)\n",
        "a=a.reshape(4,1)\n",
        "b=np.arange(0,3).reshape(1,3)\n",
        "a+b"
      ],
      "execution_count": 55,
      "outputs": [
        {
          "output_type": "execute_result",
          "data": {
            "text/plain": [
              "array([[0, 1, 2],\n",
              "       [1, 2, 3],\n",
              "       [2, 3, 4],\n",
              "       [3, 4, 5]])"
            ]
          },
          "metadata": {
            "tags": []
          },
          "execution_count": 55
        }
      ]
    },
    {
      "cell_type": "markdown",
      "metadata": {
        "id": "njID2cWrgLmH"
      },
      "source": [
        "# linear algebra"
      ]
    },
    {
      "cell_type": "code",
      "metadata": {
        "trusted": true,
        "id": "26SPpx02gLmI",
        "colab": {
          "base_uri": "https://localhost:8080/"
        },
        "outputId": "5ea20a55-5d50-4538-b807-40882da8a57b"
      },
      "source": [
        "a=np.arange(1,10)\n",
        "a=a.reshape(3,3)\n",
        "np.linalg.matrix_rank(a)"
      ],
      "execution_count": 56,
      "outputs": [
        {
          "output_type": "execute_result",
          "data": {
            "text/plain": [
              "2"
            ]
          },
          "metadata": {
            "tags": []
          },
          "execution_count": 56
        }
      ]
    },
    {
      "cell_type": "code",
      "metadata": {
        "trusted": true,
        "id": "ynxTw0M2gLmI",
        "colab": {
          "base_uri": "https://localhost:8080/"
        },
        "outputId": "32377123-0c14-4c95-e460-34ff023ce874"
      },
      "source": [
        "a=np.arange(1,10)\n",
        "a=a.reshape(3,3)\n",
        "np.trace(a)"
      ],
      "execution_count": 57,
      "outputs": [
        {
          "output_type": "execute_result",
          "data": {
            "text/plain": [
              "15"
            ]
          },
          "metadata": {
            "tags": []
          },
          "execution_count": 57
        }
      ]
    },
    {
      "cell_type": "code",
      "metadata": {
        "trusted": true,
        "id": "XTqWDBO0gLmI",
        "colab": {
          "base_uri": "https://localhost:8080/"
        },
        "outputId": "f111f6df-d255-403c-abe4-eb22997bbff0"
      },
      "source": [
        "a=np.arange(10,19)\n",
        "a=a.reshape(3,3)\n",
        "print(np.linalg.slogdet(a))\n",
        "a\n"
      ],
      "execution_count": 58,
      "outputs": [
        {
          "output_type": "stream",
          "text": [
            "(0.0, -inf)\n"
          ],
          "name": "stdout"
        },
        {
          "output_type": "execute_result",
          "data": {
            "text/plain": [
              "array([[10, 11, 12],\n",
              "       [13, 14, 15],\n",
              "       [16, 17, 18]])"
            ]
          },
          "metadata": {
            "tags": []
          },
          "execution_count": 58
        }
      ]
    },
    {
      "cell_type": "code",
      "metadata": {
        "trusted": true,
        "id": "Ej3g_WElgLmJ",
        "colab": {
          "base_uri": "https://localhost:8080/"
        },
        "outputId": "72527f10-b2ad-4df2-e868-94ff7947e206"
      },
      "source": [
        "a=np.array([[1,2],[3,4]])     #solution of equations x+2y=8 and 3x+4y=18\n",
        "b=np.array([8,18])\n",
        "np.linalg.solve(a,b)"
      ],
      "execution_count": 62,
      "outputs": [
        {
          "output_type": "execute_result",
          "data": {
            "text/plain": [
              "array([2., 3.])"
            ]
          },
          "metadata": {
            "tags": []
          },
          "execution_count": 62
        }
      ]
    },
    {
      "cell_type": "code",
      "metadata": {
        "trusted": true,
        "id": "gz1fosUZgLmJ",
        "colab": {
          "base_uri": "https://localhost:8080/"
        },
        "outputId": "bb5c33df-7a97-4ae0-c903-790b53073518"
      },
      "source": [
        "a=np.array([[1,2],[3,4]])    \n",
        "b=np.array([8,18])\n",
        "c=np.dot(a,b)\n",
        "c"
      ],
      "execution_count": 63,
      "outputs": [
        {
          "output_type": "execute_result",
          "data": {
            "text/plain": [
              "array([44, 96])"
            ]
          },
          "metadata": {
            "tags": []
          },
          "execution_count": 63
        }
      ]
    },
    {
      "cell_type": "code",
      "metadata": {
        "trusted": true,
        "id": "SJluuagSgLmJ",
        "colab": {
          "base_uri": "https://localhost:8080/"
        },
        "outputId": "d30bc0b6-3372-4f96-ba3a-b5ca1dc440e8"
      },
      "source": [
        "a*b"
      ],
      "execution_count": 64,
      "outputs": [
        {
          "output_type": "execute_result",
          "data": {
            "text/plain": [
              "array([[ 8, 36],\n",
              "       [24, 72]])"
            ]
          },
          "metadata": {
            "tags": []
          },
          "execution_count": 64
        }
      ]
    }
  ]
}